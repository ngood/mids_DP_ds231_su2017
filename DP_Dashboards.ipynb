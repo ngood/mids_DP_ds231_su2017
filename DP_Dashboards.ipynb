{
 "cells": [
  {
   "cell_type": "markdown",
   "metadata": {},
   "source": [
    "# MIDS Differential Privacy Assignment"
   ]
  },
  {
   "cell_type": "markdown",
   "metadata": {},
   "source": [
    "Nitin's code"
   ]
  },
  {
   "cell_type": "code",
   "execution_count": 109,
   "metadata": {
    "collapsed": true
   },
   "outputs": [],
   "source": [
    "## This portion creates a dataset with 1200 folks without a criminal record, and 800 folks with one\n",
    "import numpy as np\n",
    "np.random.seed(0)\n",
    "\n",
    "x = np.asarray([0 for x in range(1200)] + [1 for x in range(800)])\n",
    "eps_list_1 = [0.010, 0.015, 0.020, 0.025, 0.030]\n",
    "\n",
    "def laplace_counter(x,value, eps):\n",
    "    return np.sum(x == value) + np.random.laplace(loc = 0, scale = 1.0/eps, size = 1)[0]\n",
    "\n",
    "def lap_count_sim(x, value, eps_list, sim_size):\n",
    "    true_count = np.sum(x == value)\n",
    "    eps_repo = dict((eps, 0) for eps in eps_list)\n",
    "    for eps in eps_list:\n",
    "        catcher = []\n",
    "        for i in range(sim_size):\n",
    "            catcher.append(laplace_counter(x, value, eps))\n",
    "        catcher = np.asarray(catcher)\n",
    "        dev_val =  np.mean(100.0 * np.abs(true_count - catcher) / true_count)\n",
    "        eps_repo[eps] = dev_val\n",
    "    return eps_repo\n"
   ]
  },
  {
   "cell_type": "code",
   "execution_count": 115,
   "metadata": {
    "collapsed": false
   },
   "outputs": [
    {
     "data": {
      "text/plain": [
       "730.89330000321308"
      ]
     },
     "execution_count": 115,
     "metadata": {},
     "output_type": "execute_result"
    }
   ],
   "source": [
    "laplace_counter(x, 1, .01)"
   ]
  },
  {
   "cell_type": "markdown",
   "metadata": {},
   "source": [
    "We will use the above to create a quick dashboard to see the effect of changing the epsilon and the number of queries performed:"
   ]
  },
  {
   "cell_type": "code",
   "execution_count": 116,
   "metadata": {
    "collapsed": true
   },
   "outputs": [],
   "source": [
    "import matplotlib.pyplot as plt\n",
    "\n",
    "import seaborn as sns\n",
    "import ipywidgets as iw\n",
    "from IPython.display import clear_output"
   ]
  },
  {
   "cell_type": "code",
   "execution_count": null,
   "metadata": {
    "collapsed": true
   },
   "outputs": [],
   "source": [
    "## DASHBOARD DESIGN\n",
    "vspace = iw.HTML(\"<br>\")\n",
    "hspace = iw.HTML(\"<span style='color: white;'>-----</span>\")\n",
    "title_hd = iw.HTML(\"<h2>Differentially Private API</h2>\")\n",
    "eps_slider = iw.FloatSlider(\n",
    "    value=.1,\n",
    "    min=0.01,\n",
    "    max=.5,\n",
    "    step=0.01,\n",
    "    description='Epsilon:',\n",
    "    orientation='horizontal',\n",
    ")\n",
    "numqs_slider = iw.IntSlider(\n",
    "    value=2,\n",
    "    min=2,\n",
    "    max=100,\n",
    "    description='Number of Queries submitted:',\n",
    "    orientation='horizontal',\n",
    ")\n",
    "selection = iw.HBox(children=[eps_slider, hspace, numqs_slider])\n",
    "dash = iw.VBox(children=[title_hd, vspace, selection, vspace])\n",
    "\n",
    "\n",
    "## EVENT HANDLING\n",
    "TRUE_VALUE = np.sum(x == 1)\n",
    "def plot_dash1(b):\n",
    "    # only act for the value change\n",
    "    if b['name'] == 'value':\n",
    "        # obtain the query results\n",
    "        q_res = [ laplace_counter(x, 1, eps_slider.value) for _ in range(numqs_slider.value) ]\n",
    "\n",
    "        # clear output and plot new histogram\n",
    "        clear_output()\n",
    "        fig, ax = plt.subplots(1, figsize=(13,7))\n",
    "        sns.distplot(pd.Series(q_res, name='DF Query Output'), rug=True, hist=False, ax=ax)\n",
    "        ax.axvline(TRUE_VALUE, linewidth=3, linestyle='--', color='r')\n",
    "        ax.set_xlim([700,900])\n",
    "        ax.set_ylim([0,.2])\n",
    "\n",
    "numqs_slider.observe(plot_dash1)\n",
    "eps_slider.observe(plot_dash1)"
   ]
  },
  {
   "cell_type": "code",
   "execution_count": 129,
   "metadata": {
    "collapsed": false
   },
   "outputs": [
    {
     "data": {
      "application/javascript": [
       "$('#notebook-container').width('60%')"
      ],
      "text/plain": [
       "<IPython.core.display.Javascript object>"
      ]
     },
     "metadata": {},
     "output_type": "display_data"
    }
   ],
   "source": [
    "%%javascript\n",
    "$('#notebook-container').width('60%')"
   ]
  },
  {
   "cell_type": "code",
   "execution_count": 126,
   "metadata": {
    "collapsed": false
   },
   "outputs": [
    {
     "data": {
      "image/png": "[encoded data removed]",
      "text/plain": [
       "<matplotlib.figure.Figure at 0x112aad588>"
      ]
     },
     "metadata": {},
     "output_type": "display_data"
    }
   ],
   "source": [
    "dash"
   ]
  }
 ],
 "metadata": {
  "anaconda-cloud": {},
  "kernelspec": {
   "display_name": "Python 3",
   "language": "python",
   "name": "python3"
  },
  "language_info": {
   "codemirror_mode": {
    "name": "ipython",
    "version": 3
   },
   "file_extension": ".py",
   "mimetype": "text/x-python",
   "name": "python",
   "nbconvert_exporter": "python",
   "pygments_lexer": "ipython3",
   "version": "3.5.2"
  }
 },
 "nbformat": 4,
 "nbformat_minor": 1
}
